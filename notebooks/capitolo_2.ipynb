{
 "cells": [
  {
   "cell_type": "code",
   "execution_count": 1,
   "metadata": {},
   "outputs": [],
   "source": [
    "import matplotlib.pyplot as plt\n",
    "import matplotlib\n",
    "import numpy as np\n",
    "import librosa\n",
    "import librosa.display\n",
    "%matplotlib inline"
   ]
  },
  {
   "cell_type": "code",
   "execution_count": 5,
   "metadata": {},
   "outputs": [],
   "source": [
    "# Utilizzare per il salvataggio in pgf da in inserire in latex\n",
    "# quando attivo non permette la visualizzazione del plot su jupyter\n",
    "matplotlib.use(\"pgf\")\n",
    "matplotlib.rcParams.update({\n",
    "    \"pgf.texsystem\": \"pdflatex\",\n",
    "    'font.family': 'serif',\n",
    "    'text.usetex': True,\n",
    "    'pgf.rcfonts': False,\n",
    "})"
   ]
  },
  {
   "attachments": {},
   "cell_type": "markdown",
   "metadata": {},
   "source": [
    "# Capitolo 2 Frequenza"
   ]
  },
  {
   "attachments": {},
   "cell_type": "markdown",
   "metadata": {},
   "source": [
    "### 2.1 Frequenza e unità di misura"
   ]
  },
  {
   "attachments": {},
   "cell_type": "markdown",
   "metadata": {},
   "source": [
    "Abbiamo:\n",
    "- frequenza = f\n",
    "- ∆t = periodo -> tempo (secondi,ore etc..)"
   ]
  },
  {
   "cell_type": "code",
   "execution_count": 44,
   "metadata": {},
   "outputs": [],
   "source": [
    "def calculate_frequency(period):\n",
    "    frequency = 1 / period\n",
    "    return str(frequency) +  \" Hz\"\n",
    "\n",
    "def calculate_period(frequency):\n",
    "    period = 1 / frequency\n",
    "    return str(period) + \" Seconds\""
   ]
  },
  {
   "cell_type": "code",
   "execution_count": 45,
   "metadata": {},
   "outputs": [
    {
     "data": {
      "text/plain": [
       "'0.0022727272727272726 Seconds'"
      ]
     },
     "execution_count": 45,
     "metadata": {},
     "output_type": "execute_result"
    }
   ],
   "source": [
    "frequency = 440\n",
    "calculate_period(frequency)"
   ]
  },
  {
   "cell_type": "code",
   "execution_count": 46,
   "metadata": {},
   "outputs": [
    {
     "data": {
      "text/plain": [
       "'440.0 Hz'"
      ]
     },
     "execution_count": 46,
     "metadata": {},
     "output_type": "execute_result"
    }
   ],
   "source": [
    "period = 0.0022727272727272726\n",
    "calculate_frequency(period)\n"
   ]
  },
  {
   "attachments": {},
   "cell_type": "markdown",
   "metadata": {},
   "source": [
    "### 2.2 Seni e Coseni"
   ]
  },
  {
   "cell_type": "code",
   "execution_count": 20,
   "metadata": {},
   "outputs": [
    {
     "data": {
      "text/plain": [
       "[<matplotlib.lines.Line2D at 0x157c0b250>]"
      ]
     },
     "execution_count": 20,
     "metadata": {},
     "output_type": "execute_result"
    },
    {
     "data": {
      "image/png": "[encoded data removed]",
      "text/plain": [
       "<Figure size 640x480 with 1 Axes>"
      ]
     },
     "metadata": {},
     "output_type": "display_data"
    }
   ],
   "source": [
    "import math\n",
    "y = librosa.tone(2, duration= 1)\n",
    "\n",
    "\n",
    "def sine(length):\n",
    "    ##però voglio tenere conto della frequenza di campionamento\n",
    "    wave = []\n",
    "    for i in range(length):\n",
    "        y = math.sin(i)\n",
    "        wave.append(y)\n",
    "    return wave\n",
    "    \n",
    "#def cosine():\n",
    "\n",
    "plt.plot(sine(10))"
   ]
  },
  {
   "attachments": {},
   "cell_type": "markdown",
   "metadata": {},
   "source": [
    "### 2.5 Segnali periodici, puri e composti"
   ]
  },
  {
   "cell_type": "code",
   "execution_count": 52,
   "metadata": {},
   "outputs": [
    {
     "name": "stdout",
     "output_type": "stream",
     "text": [
      "1\n",
      "9\n",
      "25\n",
      "49\n",
      "81\n"
     ]
    }
   ],
   "source": [
    "y = librosa.tone(2, duration= 1)\n",
    "sr = 22050\n",
    "# a frequenza di campionamento n quanti campioni mi servono per plottare ...\n",
    "# ciclo for per costruire square wave\n",
    "\n",
    "def sawtooth(nr_tones):\n",
    "    y = 0;\n",
    "    for i in range(nr_tones):\n",
    "        #però solo numeri dispari\n",
    "        y = y + librosa.tone(2 * (i+1), duration= 1) / (i+1)\n",
    "    return y\n",
    "\n",
    "def square(nr_tones):\n",
    "    y = 0;\n",
    "\n",
    "    for i in range(nr_tones):\n",
    "        #però solo numeri dispari noo \n",
    "        if i%2 != 0:\n",
    "            y = y + librosa.tone(2 * (i), duration= 1) / (i)\n",
    "    return y\n",
    "\n",
    "def triangle(nr_tones):\n",
    "    y = 0;\n",
    "\n",
    "    for i in range(nr_tones):\n",
    "        #come switcho la fase\n",
    "        phase = 0;\n",
    "        if i%2 != 0:\n",
    "            if phase == 0:\n",
    "                phase = np.pi;\n",
    "            elif phase == np.pi:\n",
    "                phase = 0;\n",
    "            y = y + librosa.tone(2 * (i), duration= 1, phi = phase) / (i**2) \n",
    "            print(i**2)\n",
    "    return y\n",
    "\n",
    "\n",
    "# def triangle(nr_tones):\n",
    "#     y = 0\n",
    "\n",
    "#     for i in range(nr_tones):\n",
    "#          if i%2 == 0:\n",
    "#             y = y + librosa.tone(2 * (i), duration= 1) / (i**2)\n",
    "#     return y\n",
    "\n",
    "plt.clf()\n",
    "# plt.plot(sawtooth(1000))\n",
    "#plt.plot(square(1000))\n",
    "#plt.show()\n",
    "\n",
    "# from scipy import signal\n",
    "\n",
    "# t = np.linspace(0, 1, 500)\n",
    "# triangle = signal.sawtooth(2 * np.pi * 5 * t, 0.5)\n",
    "# plt.plot(t, triangle)\n",
    "\n",
    "plt.plot(triangle(10))\n",
    "plt.savefig(\"../git_dispense/cs1-dispense/figures/triangolare.pgf\")"
   ]
  },
  {
   "attachments": {},
   "cell_type": "markdown",
   "metadata": {},
   "source": [
    "### 2.6 Categorie di spettri"
   ]
  },
  {
   "cell_type": "code",
   "execution_count": 6,
   "metadata": {},
   "outputs": [],
   "source": [
    "# plotting del rumore  bianco e rosa\n",
    "plt.clf()\n",
    "\n",
    "def plot_spectrum(s):\n",
    "    f = np.fft.rfftfreq(len(s))\n",
    "    return plt.loglog(f, np.abs(np.fft.rfft(s)))[0]\n",
    "\n",
    "def noise_psd(N, psd = lambda f: 1):\n",
    "        X_white = np.fft.rfft(np.random.randn(N));\n",
    "        S = psd(np.fft.rfftfreq(N))\n",
    "        # Normalize S\n",
    "        S = S / np.sqrt(np.mean(S**2))\n",
    "        X_shaped = X_white * S;\n",
    "        return np.fft.irfft(X_shaped);\n",
    "\n",
    "def PSDGenerator(f):\n",
    "    return lambda N: noise_psd(N, f)\n",
    "\n",
    "@PSDGenerator\n",
    "def white_noise(f):\n",
    "    return 1;\n",
    "\n",
    "@PSDGenerator\n",
    "def blue_noise(f):\n",
    "    return np.sqrt(f);\n",
    "\n",
    "@PSDGenerator\n",
    "def violet_noise(f):\n",
    "    return f;\n",
    "\n",
    "@PSDGenerator\n",
    "def brownian_noise(f):\n",
    "    return 1/np.where(f == 0, float('inf'), f)\n",
    "\n",
    "@PSDGenerator\n",
    "def pink_noise(f):\n",
    "    return 1/np.where(f == 0, float('inf'), np.sqrt(f))\n",
    "\n",
    "\n",
    "#plt.style.use('dark_background')\n",
    "plt.figure(figsize=(7, 4), tight_layout=True)\n",
    "for G, c in zip(\n",
    "        [brownian_noise, pink_noise, white_noise, blue_noise, violet_noise], \n",
    "        ['brown', 'hotpink', 'yellow', 'blue', 'violet']):\n",
    "    plot_spectrum(G(30*50_000)).set(color=c, linewidth=3)\n",
    "plt.legend(['brownian', 'pink', 'white', 'blue', 'violet'])\n",
    "plt.suptitle(\"Colored Noise\");\n",
    "plt.ylim([1e-3, None]);\n",
    "\n",
    "plt.savefig(\"../git_dispense/cs1-dispense/figures/rumori_vari.pgf\")"
   ]
  },
  {
   "attachments": {},
   "cell_type": "markdown",
   "metadata": {},
   "source": [
    "- spettri armonici, inarmonici (mancano le formule delle sommatorie)"
   ]
  },
  {
   "attachments": {},
   "cell_type": "markdown",
   "metadata": {},
   "source": [
    "# Correzioni:\n",
    "\n",
    "Riga 39 viene dato per scontato il concetto di trasformata di fourier e scomposizione del suono in sinusoidi."
   ]
  },
  {
   "attachments": {},
   "cell_type": "markdown",
   "metadata": {},
   "source": []
  }
 ],
 "metadata": {
  "kernelspec": {
   "display_name": "label-studio",
   "language": "python",
   "name": "python3"
  },
  "language_info": {
   "codemirror_mode": {
    "name": "ipython",
    "version": 3
   },
   "file_extension": ".py",
   "mimetype": "text/x-python",
   "name": "python",
   "nbconvert_exporter": "python",
   "pygments_lexer": "ipython3",
   "version": "3.9.16"
  },
  "orig_nbformat": 4
 },
 "nbformat": 4,
 "nbformat_minor": 2
}
